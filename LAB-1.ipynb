{
 "cells": [
  {
   "cell_type": "code",
   "execution_count": 2,
   "metadata": {},
   "outputs": [
    {
     "name": "stdout",
     "output_type": "stream",
     "text": [
      "   TransactionID TransactionDate  UserID  ProductID  Quali\n",
      "0              1      2010-08-21     7.0          2      1\n",
      "1              2      2011-05-26     3.0          4      1\n",
      "2              3      2011-06-16     3.0          3      1\n",
      "3              4      2012-08-26     1.0          2      3\n",
      "4              5      2013-06-06     2.0          4      1\n",
      "5              6      2013-12-23     2.0          5      6\n",
      "6              7      2013-12-30     3.0          4      1\n",
      "7              8      2014-04-24     NaN          2      3\n",
      "8              9      2015-04-24     7.0          4      3\n",
      "9             10      2016-05-08     3.0          4      4\n"
     ]
    }
   ],
   "source": [
    "import pandas as pd\n",
    "df=pd.read_csv(\"transactions.csv\")\n",
    "df.rename(columns={\"Quantity\":\"Quali\"},inplace=True)\n",
    "print(df)\n"
   ]
  },
  {
   "cell_type": "code",
   "execution_count": 19,
   "metadata": {},
   "outputs": [
    {
     "name": "stdout",
     "output_type": "stream",
     "text": [
      "  vegetables   fruits      drinks\n",
      "0      onion    apple  softdrinks\n",
      "1     tomato   banana    cococola\n",
      "2    brinjal  berries      coffee\n"
     ]
    }
   ],
   "source": [
    "print(df.head())"
   ]
  },
  {
   "cell_type": "code",
   "execution_count": 7,
   "metadata": {},
   "outputs": [
    {
     "name": "stdout",
     "output_type": "stream",
     "text": [
      "today's date\n",
      "2025-01-28 00:00:00\n"
     ]
    }
   ],
   "source": [
    "import pandas as pd\n",
    "from datetime import date\n",
    "now=pd.to_datetime(str(date.today()), format=\"%Y-%m-%d\")\n",
    "print(\"today's date\")\n",
    "print(now)"
   ]
  },
  {
   "cell_type": "code",
   "execution_count": 20,
   "metadata": {},
   "outputs": [
    {
     "name": "stdout",
     "output_type": "stream",
     "text": [
      "      vegetables   fruits      drinks\n",
      "item1      onion    apple  softdrinks\n",
      "item2     tomato   banana    cococola\n",
      "item3    brinjal  berries      coffee\n"
     ]
    }
   ],
   "source": [
    "#Creating a dataframe\n",
    "\n",
    "import pandas as pd\n",
    "data={'vegetables':[\"onion\",\"tomato\",\"brinjal\"],'fruits':[\"apple\",\"banana\",\"berries\"],'drinks':[\"softdrinks\",\"cococola\",\"coffee\"]}\n",
    "dp=pd.DataFrame(data,index=[\"item1\",\"item2\",\"item3\"])\n",
    "print(dp)"
   ]
  },
  {
   "cell_type": "code",
   "execution_count": 21,
   "metadata": {},
   "outputs": [
    {
     "name": "stdout",
     "output_type": "stream",
     "text": [
      "  vegetables   fruits      drinks\n",
      "0      onion    apple  softdrinks\n",
      "1     tomato   banana    cococola\n",
      "2    brinjal  berries      coffee\n"
     ]
    }
   ],
   "source": [
    "print(df.head())"
   ]
  },
  {
   "cell_type": "code",
   "execution_count": 22,
   "metadata": {},
   "outputs": [
    {
     "name": "stdout",
     "output_type": "stream",
     "text": [
      "<class 'pandas.core.frame.DataFrame'>\n",
      "RangeIndex: 3 entries, 0 to 2\n",
      "Data columns (total 3 columns):\n",
      " #   Column      Non-Null Count  Dtype \n",
      "---  ------      --------------  ----- \n",
      " 0   vegetables  3 non-null      object\n",
      " 1   fruits      3 non-null      object\n",
      " 2   drinks      3 non-null      object\n",
      "dtypes: object(3)\n",
      "memory usage: 200.0+ bytes\n",
      "None\n"
     ]
    }
   ],
   "source": [
    "print(df.info())"
   ]
  },
  {
   "cell_type": "code",
   "execution_count": 24,
   "metadata": {},
   "outputs": [
    {
     "name": "stdout",
     "output_type": "stream",
     "text": [
      "  vegetables fruits      drinks\n",
      "0      onion  apple  softdrinks\n"
     ]
    }
   ],
   "source": [
    "print(df.head(1))"
   ]
  },
  {
   "cell_type": "code",
   "execution_count": 25,
   "metadata": {},
   "outputs": [
    {
     "name": "stdout",
     "output_type": "stream",
     "text": [
      "  vegetables   fruits      drinks\n",
      "0      onion    apple  softdrinks\n",
      "1     tomato   banana    cococola\n",
      "2    brinjal  berries      coffee\n"
     ]
    }
   ],
   "source": [
    "print(df.tail())"
   ]
  },
  {
   "cell_type": "code",
   "execution_count": 26,
   "metadata": {},
   "outputs": [
    {
     "name": "stdout",
     "output_type": "stream",
     "text": [
      "  vegetables   fruits    drinks\n",
      "1     tomato   banana  cococola\n",
      "2    brinjal  berries    coffee\n"
     ]
    }
   ],
   "source": [
    "print(df.tail(2))"
   ]
  },
  {
   "cell_type": "code",
   "execution_count": 27,
   "metadata": {},
   "outputs": [
    {
     "name": "stdout",
     "output_type": "stream",
     "text": [
      "       vegetables fruits      drinks\n",
      "count           3      3           3\n",
      "unique          3      3           3\n",
      "top         onion  apple  softdrinks\n",
      "freq            1      1           1\n"
     ]
    }
   ],
   "source": [
    "print(df.describe())"
   ]
  },
  {
   "cell_type": "code",
   "execution_count": 4,
   "metadata": {},
   "outputs": [
    {
     "name": "stdout",
     "output_type": "stream",
     "text": [
      "   TransactionID TransactionDate  UserID  ProductID  Quantity\n",
      "0              1      2010-08-21     7.0          2         1\n",
      "1              2      2011-05-26     3.0          4         1\n",
      "2              3      2011-06-16     3.0          3         1\n",
      "3              4      2012-08-26     1.0          2         3\n",
      "4              5      2013-06-06     2.0          4         1\n",
      "5              6      2013-12-23     2.0          5         6\n",
      "6              7      2013-12-30     3.0          4         1\n",
      "7              8      2014-04-24     NaN          2         3\n",
      "8              9      2015-04-24     7.0          4         3\n",
      "9             10      2016-05-08     3.0          4         4\n"
     ]
    }
   ],
   "source": [
    "import pandas as pd\n",
    "df=pd.read_csv(\"transactions.csv\")\n",
    "print(df)"
   ]
  },
  {
   "cell_type": "code",
   "execution_count": 5,
   "metadata": {},
   "outputs": [
    {
     "name": "stdout",
     "output_type": "stream",
     "text": [
      "   TransactionID TransactionDate  UserID  ProductID  Quantity\n",
      "0              1      2010-08-21     7.0          2         1\n",
      "1              2      2011-05-26     3.0          4         1\n",
      "2              3      2011-06-16     3.0          3         1\n",
      "3              4      2012-08-26     1.0          2         3\n",
      "4              5      2013-06-06     2.0          4         1\n"
     ]
    }
   ],
   "source": [
    "print(df.head())"
   ]
  },
  {
   "cell_type": "code",
   "execution_count": 6,
   "metadata": {},
   "outputs": [
    {
     "name": "stdout",
     "output_type": "stream",
     "text": [
      "   TransactionID TransactionDate  UserID  ProductID  Quantity\n",
      "5              6      2013-12-23     2.0          5         6\n",
      "6              7      2013-12-30     3.0          4         1\n",
      "7              8      2014-04-24     NaN          2         3\n",
      "8              9      2015-04-24     7.0          4         3\n",
      "9             10      2016-05-08     3.0          4         4\n"
     ]
    }
   ],
   "source": [
    "print(df.tail())"
   ]
  },
  {
   "cell_type": "code",
   "execution_count": 7,
   "metadata": {},
   "outputs": [
    {
     "name": "stdout",
     "output_type": "stream",
     "text": [
      "   TransactionID TransactionDate  UserID  ProductID  Quantity\n",
      "0              1      2010-08-21     7.0          2         1\n",
      "1              2      2011-05-26     3.0          4         1\n",
      "2              3      2011-06-16     3.0          3         1\n"
     ]
    }
   ],
   "source": [
    "print(df.head(3))"
   ]
  },
  {
   "cell_type": "code",
   "execution_count": 8,
   "metadata": {},
   "outputs": [
    {
     "name": "stdout",
     "output_type": "stream",
     "text": [
      "   TransactionID TransactionDate  UserID  ProductID  Quantity\n",
      "8              9      2015-04-24     7.0          4         3\n",
      "9             10      2016-05-08     3.0          4         4\n"
     ]
    }
   ],
   "source": [
    "print(df.tail(2))"
   ]
  },
  {
   "cell_type": "code",
   "execution_count": 9,
   "metadata": {},
   "outputs": [
    {
     "name": "stdout",
     "output_type": "stream",
     "text": [
      "       TransactionID    UserID  ProductID   Quantity\n",
      "count       10.00000  9.000000  10.000000  10.000000\n",
      "mean         5.50000  3.444444   3.400000   2.400000\n",
      "std          3.02765  2.127858   1.074968   1.712698\n",
      "min          1.00000  1.000000   2.000000   1.000000\n",
      "25%          3.25000  2.000000   2.250000   1.000000\n",
      "50%          5.50000  3.000000   4.000000   2.000000\n",
      "75%          7.75000  3.000000   4.000000   3.000000\n",
      "max         10.00000  7.000000   5.000000   6.000000\n"
     ]
    }
   ],
   "source": [
    "#Print Summary of transaction data set\n",
    "\n",
    "print(df.describe())"
   ]
  },
  {
   "cell_type": "code",
   "execution_count": 10,
   "metadata": {},
   "outputs": [
    {
     "name": "stdout",
     "output_type": "stream",
     "text": [
      "no.of attributes is: 5\n"
     ]
    }
   ],
   "source": [
    "#2. Print Numbers of Attributes\n",
    "\n",
    "count=len(df.columns)\n",
    "print(f\"no.of attributes is: {count}\")"
   ]
  },
  {
   "cell_type": "code",
   "execution_count": 11,
   "metadata": {},
   "outputs": [
    {
     "name": "stdout",
     "output_type": "stream",
     "text": [
      "5\n"
     ]
    }
   ],
   "source": [
    "\n",
    "\n",
    "count1=len(df.count())\n",
    "print(count1)"
   ]
  },
  {
   "cell_type": "code",
   "execution_count": 12,
   "metadata": {},
   "outputs": [
    {
     "name": "stdout",
     "output_type": "stream",
     "text": [
      "no.of records:10\n"
     ]
    }
   ],
   "source": [
    "#3. Print Numbers of Records\n",
    "\n",
    "print(f\"no.of records:{len(df)}\")"
   ]
  },
  {
   "cell_type": "code",
   "execution_count": 13,
   "metadata": {},
   "outputs": [
    {
     "name": "stdout",
     "output_type": "stream",
     "text": [
      "names of row names:[0, 1, 2, 3, 4, 5, 6, 7, 8, 9]\n"
     ]
    }
   ],
   "source": [
    "#4. Get the row names\n",
    "row_names = df.index.tolist()\n",
    "print(f\"names of row names:{row_names}\")"
   ]
  },
  {
   "cell_type": "code",
   "execution_count": 14,
   "metadata": {},
   "outputs": [
    {
     "name": "stdout",
     "output_type": "stream",
     "text": [
      "['TransactionID', 'TransactionDate', 'UserID', 'ProductID', 'Quantity']\n"
     ]
    }
   ],
   "source": [
    "#5. Get the column names\n",
    "\n",
    "column_names=df.columns.tolist()\n",
    "print(column_names)"
   ]
  },
  {
   "cell_type": "code",
   "execution_count": 15,
   "metadata": {},
   "outputs": [
    {
     "name": "stdout",
     "output_type": "stream",
     "text": [
      "   TransactionID TransactionDate  UserID  ProductID  Quantity\n",
      "0              1      2010-08-21     7.0          2         1\n",
      "1              2      2011-05-26     3.0          4         1\n",
      "2              3      2011-06-16     3.0          3         1\n",
      "3              4      2012-08-26     1.0          2         3\n",
      "4              5      2013-06-06     2.0          4         1\n",
      "5              6      2013-12-23     2.0          5         6\n",
      "6              7      2013-12-30     3.0          4         1\n",
      "7              8      2014-04-24     NaN          2         3\n",
      "8              9      2015-04-24     7.0          4         3\n",
      "9             10      2016-05-08     3.0          4         4\n"
     ]
    }
   ],
   "source": [
    "#6. View top 10 Records\n",
    "\n",
    "print(df.head(10))"
   ]
  },
  {
   "cell_type": "code",
   "execution_count": 16,
   "metadata": {},
   "outputs": [
    {
     "name": "stdout",
     "output_type": "stream",
     "text": [
      "   TransactionID TransactionDate  UserID  ProductID  Quanti\n",
      "0              1      2010-08-21     7.0          2       1\n",
      "1              2      2011-05-26     3.0          4       1\n",
      "2              3      2011-06-16     3.0          3       1\n",
      "3              4      2012-08-26     1.0          2       3\n",
      "4              5      2013-06-06     2.0          4       1\n",
      "5              6      2013-12-23     2.0          5       6\n",
      "6              7      2013-12-30     3.0          4       1\n",
      "7              8      2014-04-24     NaN          2       3\n",
      "8              9      2015-04-24     7.0          4       3\n",
      "9             10      2016-05-08     3.0          4       4\n"
     ]
    }
   ],
   "source": [
    "#7.Change the name of column “ Quantity” to “Quant”\n",
    "\n",
    "df.rename(columns={\"Quantity\":\"Quanti\"},inplace=True)\n",
    "print(df)"
   ]
  },
  {
   "cell_type": "code",
   "execution_count": 17,
   "metadata": {},
   "outputs": [
    {
     "name": "stdout",
     "output_type": "stream",
     "text": [
      "   TransactionID TransactionDate  UID  PID  Quanti\n",
      "0              1      2010-08-21  7.0    2       1\n",
      "1              2      2011-05-26  3.0    4       1\n",
      "2              3      2011-06-16  3.0    3       1\n",
      "3              4      2012-08-26  1.0    2       3\n",
      "4              5      2013-06-06  2.0    4       1\n",
      "5              6      2013-12-23  2.0    5       6\n",
      "6              7      2013-12-30  3.0    4       1\n",
      "7              8      2014-04-24  NaN    2       3\n",
      "8              9      2015-04-24  7.0    4       3\n",
      "9             10      2016-05-08  3.0    4       4\n"
     ]
    }
   ],
   "source": [
    "#8.Change the name of columns ProductID and UserID\n",
    "\n",
    "df.rename(columns={\"UserID\":\"UID\",\"ProductID\":\"PID\"},inplace=True)\n",
    "print(df)"
   ]
  },
  {
   "cell_type": "code",
   "execution_count": 18,
   "metadata": {},
   "outputs": [
    {
     "name": "stdout",
     "output_type": "stream",
     "text": [
      "   TransactionID TransactionDate  UID  PID  Quanti\n",
      "9             10      2016-05-08  3.0    4       4\n",
      "8              9      2015-04-24  7.0    4       3\n",
      "7              8      2014-04-24  NaN    2       3\n",
      "6              7      2013-12-30  3.0    4       1\n",
      "5              6      2013-12-23  2.0    5       6\n",
      "4              5      2013-06-06  2.0    4       1\n",
      "3              4      2012-08-26  1.0    2       3\n",
      "2              3      2011-06-16  3.0    3       1\n",
      "1              2      2011-05-26  3.0    4       1\n",
      "0              1      2010-08-21  7.0    2       1\n"
     ]
    }
   ],
   "source": [
    "#9. Order the rows of transactions by TransactionId\n",
    "#descending, if ascending then ascending=True\n",
    "\n",
    "out=df.sort_values(by=\"TransactionID\", ascending=False)\n",
    "print(out)"
   ]
  },
  {
   "cell_type": "code",
   "execution_count": 19,
   "metadata": {},
   "outputs": [
    {
     "name": "stdout",
     "output_type": "stream",
     "text": [
      "   TransactionID TransactionDate  UID  PID  Quanti\n",
      "3              4      2012-08-26  1.0    2       3\n",
      "4              5      2013-06-06  2.0    4       1\n",
      "5              6      2013-12-23  2.0    5       6\n",
      "1              2      2011-05-26  3.0    4       1\n",
      "2              3      2011-06-16  3.0    3       1\n",
      "6              7      2013-12-30  3.0    4       1\n",
      "9             10      2016-05-08  3.0    4       4\n",
      "0              1      2010-08-21  7.0    2       1\n",
      "8              9      2015-04-24  7.0    4       3\n",
      "7              8      2014-04-24  NaN    2       3\n"
     ]
    }
   ],
   "source": [
    "out1=df.sort_values(by=\"UID\", ascending=True)\n",
    "print(out1)"
   ]
  },
  {
   "cell_type": "code",
   "execution_count": 20,
   "metadata": {},
   "outputs": [
    {
     "name": "stdout",
     "output_type": "stream",
     "text": [
      "   TransactionID TransactionDate  UID  PID  Quanti\n",
      "6              7      2013-12-30  3.0    4       1\n",
      "4              5      2013-06-06  2.0    4       1\n",
      "2              3      2011-06-16  3.0    3       1\n",
      "1              2      2011-05-26  3.0    4       1\n",
      "0              1      2010-08-21  7.0    2       1\n",
      "8              9      2015-04-24  7.0    4       3\n",
      "7              8      2014-04-24  NaN    2       3\n",
      "3              4      2012-08-26  1.0    2       3\n",
      "9             10      2016-05-08  3.0    4       4\n",
      "5              6      2013-12-23  2.0    5       6\n"
     ]
    }
   ],
   "source": [
    "#10. Order the rows of transactions by Quantity\n",
    "#ascending, TransactionDate descending\n",
    "\n",
    "output=df.sort_values(by=[\"Quanti\",\"TransactionDate\"],ascending=[True, False])\n",
    "print(output)"
   ]
  },
  {
   "cell_type": "code",
   "execution_count": 21,
   "metadata": {},
   "outputs": [
    {
     "name": "stdout",
     "output_type": "stream",
     "text": [
      "   PID  Quanti TransactionDate  TransactionID  UID\n",
      "0    2       1      2010-08-21              1  7.0\n",
      "1    4       1      2011-05-26              2  3.0\n",
      "2    3       1      2011-06-16              3  3.0\n",
      "3    2       3      2012-08-26              4  1.0\n",
      "4    4       1      2013-06-06              5  2.0\n",
      "5    5       6      2013-12-23              6  2.0\n",
      "6    4       1      2013-12-30              7  3.0\n",
      "7    2       3      2014-04-24              8  NaN\n",
      "8    4       3      2015-04-24              9  7.0\n",
      "9    4       4      2016-05-08             10  3.0\n"
     ]
    }
   ],
   "source": [
    "#11. Set the column order of Transactions as ProductID,\n",
    "#Quantity, TransactionDate, TransactionID, UserID\n",
    "\n",
    "df=df[[\"PID\",\"Quanti\",\"TransactionDate\",\"TransactionID\",\"UID\"]]\n",
    "print(df)"
   ]
  },
  {
   "cell_type": "code",
   "execution_count": 22,
   "metadata": {},
   "outputs": [
    {
     "name": "stdout",
     "output_type": "stream",
     "text": [
      "   UID  TransactionID TransactionDate  PID  Quanti\n",
      "0  7.0              1      2010-08-21    2       1\n",
      "1  3.0              2      2011-05-26    4       1\n",
      "2  3.0              3      2011-06-16    3       1\n",
      "3  1.0              4      2012-08-26    2       3\n",
      "4  2.0              5      2013-06-06    4       1\n",
      "5  2.0              6      2013-12-23    5       6\n",
      "6  3.0              7      2013-12-30    4       1\n",
      "7  NaN              8      2014-04-24    2       3\n",
      "8  7.0              9      2015-04-24    4       3\n",
      "9  3.0             10      2016-05-08    4       4\n"
     ]
    }
   ],
   "source": [
    "#12. Make UserID the first column of transactions\n",
    "\n",
    "df=df[[\"UID\",\"TransactionID\",\"TransactionDate\",\"PID\",\"Quanti\"]]\n",
    "print(df)"
   ]
  },
  {
   "cell_type": "code",
   "execution_count": 23,
   "metadata": {},
   "outputs": [
    {
     "name": "stdout",
     "output_type": "stream",
     "text": [
      "[ 1  2  3  4  5  6  7  8  9 10]\n"
     ]
    }
   ],
   "source": [
    "#13. Extracting arrays from a Data Frame. Get the 2nd column\n",
    "\n",
    "outt=df.iloc[:, 1].values\n",
    "print(outt)"
   ]
  },
  {
   "cell_type": "code",
   "execution_count": 24,
   "metadata": {},
   "outputs": [
    {
     "data": {
      "text/html": [
       "<div>\n",
       "<style scoped>\n",
       "    .dataframe tbody tr th:only-of-type {\n",
       "        vertical-align: middle;\n",
       "    }\n",
       "\n",
       "    .dataframe tbody tr th {\n",
       "        vertical-align: top;\n",
       "    }\n",
       "\n",
       "    .dataframe thead th {\n",
       "        text-align: right;\n",
       "    }\n",
       "</style>\n",
       "<table border=\"1\" class=\"dataframe\">\n",
       "  <thead>\n",
       "    <tr style=\"text-align: right;\">\n",
       "      <th></th>\n",
       "      <th>UID</th>\n",
       "      <th>TransactionID</th>\n",
       "      <th>TransactionDate</th>\n",
       "      <th>PID</th>\n",
       "      <th>Quanti</th>\n",
       "    </tr>\n",
       "  </thead>\n",
       "  <tbody>\n",
       "    <tr>\n",
       "      <th>0</th>\n",
       "      <td>7.0</td>\n",
       "      <td>1</td>\n",
       "      <td>2010-08-21</td>\n",
       "      <td>2</td>\n",
       "      <td>1</td>\n",
       "    </tr>\n",
       "    <tr>\n",
       "      <th>1</th>\n",
       "      <td>3.0</td>\n",
       "      <td>2</td>\n",
       "      <td>2011-05-26</td>\n",
       "      <td>4</td>\n",
       "      <td>1</td>\n",
       "    </tr>\n",
       "    <tr>\n",
       "      <th>2</th>\n",
       "      <td>3.0</td>\n",
       "      <td>3</td>\n",
       "      <td>2011-06-16</td>\n",
       "      <td>3</td>\n",
       "      <td>1</td>\n",
       "    </tr>\n",
       "    <tr>\n",
       "      <th>3</th>\n",
       "      <td>1.0</td>\n",
       "      <td>4</td>\n",
       "      <td>2012-08-26</td>\n",
       "      <td>2</td>\n",
       "      <td>3</td>\n",
       "    </tr>\n",
       "    <tr>\n",
       "      <th>4</th>\n",
       "      <td>2.0</td>\n",
       "      <td>5</td>\n",
       "      <td>2013-06-06</td>\n",
       "      <td>4</td>\n",
       "      <td>1</td>\n",
       "    </tr>\n",
       "    <tr>\n",
       "      <th>5</th>\n",
       "      <td>2.0</td>\n",
       "      <td>6</td>\n",
       "      <td>2013-12-23</td>\n",
       "      <td>5</td>\n",
       "      <td>6</td>\n",
       "    </tr>\n",
       "    <tr>\n",
       "      <th>6</th>\n",
       "      <td>3.0</td>\n",
       "      <td>7</td>\n",
       "      <td>2013-12-30</td>\n",
       "      <td>4</td>\n",
       "      <td>1</td>\n",
       "    </tr>\n",
       "    <tr>\n",
       "      <th>7</th>\n",
       "      <td>NaN</td>\n",
       "      <td>8</td>\n",
       "      <td>2014-04-24</td>\n",
       "      <td>2</td>\n",
       "      <td>3</td>\n",
       "    </tr>\n",
       "    <tr>\n",
       "      <th>8</th>\n",
       "      <td>7.0</td>\n",
       "      <td>9</td>\n",
       "      <td>2015-04-24</td>\n",
       "      <td>4</td>\n",
       "      <td>3</td>\n",
       "    </tr>\n",
       "    <tr>\n",
       "      <th>9</th>\n",
       "      <td>3.0</td>\n",
       "      <td>10</td>\n",
       "      <td>2016-05-08</td>\n",
       "      <td>4</td>\n",
       "      <td>4</td>\n",
       "    </tr>\n",
       "  </tbody>\n",
       "</table>\n",
       "</div>"
      ],
      "text/plain": [
       "   UID  TransactionID TransactionDate  PID  Quanti\n",
       "0  7.0              1      2010-08-21    2       1\n",
       "1  3.0              2      2011-05-26    4       1\n",
       "2  3.0              3      2011-06-16    3       1\n",
       "3  1.0              4      2012-08-26    2       3\n",
       "4  2.0              5      2013-06-06    4       1\n",
       "5  2.0              6      2013-12-23    5       6\n",
       "6  3.0              7      2013-12-30    4       1\n",
       "7  NaN              8      2014-04-24    2       3\n",
       "8  7.0              9      2015-04-24    4       3\n",
       "9  3.0             10      2016-05-08    4       4"
      ]
     },
     "execution_count": 24,
     "metadata": {},
     "output_type": "execute_result"
    }
   ],
   "source": [
    "df\n"
   ]
  },
  {
   "cell_type": "code",
   "execution_count": 25,
   "metadata": {},
   "outputs": [
    {
     "data": {
      "text/plain": [
       "array([ 1,  2,  3,  4,  5,  6,  7,  8,  9, 10])"
      ]
     },
     "execution_count": 25,
     "metadata": {},
     "output_type": "execute_result"
    }
   ],
   "source": [
    "outt"
   ]
  },
  {
   "cell_type": "code",
   "execution_count": 26,
   "metadata": {},
   "outputs": [
    {
     "name": "stdout",
     "output_type": "stream",
     "text": [
      "[2 4 3 2 4 5 4 2 4 4]\n"
     ]
    }
   ],
   "source": [
    "#14\n",
    "outt=df.iloc[:, 3].values\n",
    "print(outt)"
   ]
  },
  {
   "cell_type": "code",
   "execution_count": null,
   "metadata": {},
   "outputs": [],
   "source": []
  },
  {
   "cell_type": "code",
   "execution_count": 27,
   "metadata": {},
   "outputs": [
    {
     "name": "stdout",
     "output_type": "stream",
     "text": [
      "   UID  TransactionID TransactionDate  PID  Quanti\n",
      "1  3.0              2      2011-05-26    4       1\n",
      "3  1.0              4      2012-08-26    2       3\n",
      "6  3.0              7      2013-12-30    4       1\n"
     ]
    }
   ],
   "source": [
    "#15\n",
    "print(df.iloc[[1,3,6]])"
   ]
  },
  {
   "cell_type": "code",
   "execution_count": 28,
   "metadata": {},
   "outputs": [
    {
     "name": "stdout",
     "output_type": "stream",
     "text": [
      "   UID  TransactionID TransactionDate  PID  Quanti\n",
      "1  3.0              2      2011-05-26    4       1\n",
      "3  1.0              4      2012-08-26    2       3\n",
      "6  3.0              7      2013-12-30    4       1\n"
     ]
    }
   ],
   "source": [
    "#16subset rows excluding 1,3 and 6\n",
    "\n",
    "\n",
    "foo=[False, True, False, True, False, False, True, False, False, False]\n",
    "print(df[foo])"
   ]
  },
  {
   "cell_type": "code",
   "execution_count": 29,
   "metadata": {},
   "outputs": [
    {
     "name": "stdout",
     "output_type": "stream",
     "text": [
      "   UID  TransactionID TransactionDate  PID  Quanti\n",
      "1  3.0              2      2011-05-26    4       1\n",
      "3  1.0              4      2012-08-26    2       3\n",
      "6  3.0              7      2013-12-30    4       1\n"
     ]
    }
   ],
   "source": [
    "##17. subset rows excluding 1,3 and 6\n",
    "foo=[False, True, False, True, False, False, True, False, False, False]\n",
    "print(df[foo])"
   ]
  },
  {
   "cell_type": "code",
   "execution_count": 31,
   "metadata": {},
   "outputs": [
    {
     "name": "stdout",
     "output_type": "stream",
     "text": [
      "   UID  TransactionID TransactionDate  PID  Quanti\n",
      "0  7.0              1      2010-08-21    2       1\n",
      "1  3.0              2      2011-05-26    4       1\n",
      "2  3.0              3      2011-06-16    3       1\n"
     ]
    }
   ],
   "source": [
    "#18. Subset the first three rows\n",
    "three=df.iloc[:3]\n",
    "print(three)\n"
   ]
  },
  {
   "cell_type": "code",
   "execution_count": null,
   "metadata": {},
   "outputs": [],
   "source": []
  }
 ],
 "metadata": {
  "kernelspec": {
   "display_name": "Python 3",
   "language": "python",
   "name": "python3"
  },
  "language_info": {
   "codemirror_mode": {
    "name": "ipython",
    "version": 3
   },
   "file_extension": ".py",
   "mimetype": "text/x-python",
   "name": "python",
   "nbconvert_exporter": "python",
   "pygments_lexer": "ipython3",
   "version": "3.8.10"
  }
 },
 "nbformat": 4,
 "nbformat_minor": 4
}
